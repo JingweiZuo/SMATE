{
 "cells": [
  {
   "cell_type": "markdown",
   "metadata": {},
   "source": [
    "Data format conversion for KNN-MTS\n",
    "===\n",
    "\n",
    "\n",
    "---\n",
    "Input\n",
    "---\n",
    "\n",
    "A single file contains all samples and their labels: ***L * (3 + D)***\n",
    "\n",
    "\n",
    "\n",
    "- 1st col: sample_id\n",
    "- 2nd col: timestamps\n",
    "- 3rd col: label\n",
    "- after the 4th col: mts vector with D dimensions   \n",
    "\n",
    "---\n",
    "Output\n",
    "---\n",
    "\n",
    "Two array-like variables\n",
    "\n",
    "- X : array-like, shape (n_ts, sz, d)\n",
    "        Sequence values.\n",
    "- y : array-like, shape (n_ts, )\n",
    "        Label values.\n",
    "\n"
   ]
  },
  {
   "cell_type": "code",
   "execution_count": 81,
   "metadata": {},
   "outputs": [],
   "source": [
    "import numpy as np\n",
    "from sklearn.metrics import accuracy_score\n",
    "from tslearn.neighbors import KNeighborsTimeSeriesClassifier"
   ]
  },
  {
   "cell_type": "code",
   "execution_count": 83,
   "metadata": {},
   "outputs": [],
   "source": [
    "def z_normalization(mts):\n",
    "    M = len(mts[0, :])\n",
    "    for i in range(M):\n",
    "        mts_i = mts[:, i]\n",
    "        mean = np.mean(mts_i)\n",
    "        std = np.std(mts_i)\n",
    "        mts_i = (mts_i - mean) / std\n",
    "        mts[:, i] = mts_i\n",
    "    return mts"
   ]
  },
  {
   "cell_type": "code",
   "execution_count": null,
   "metadata": {},
   "outputs": [],
   "source": [
    "rep = \"./datasets/multivariate/\"\n",
    "ds = \"ECG\"\n",
    "ds_train = ds + '/' + ds + \"_TRAIN3\"\n",
    "ds_test = ds + '/' + ds + \"_TEST3\"\n",
    "\n",
    "def convert_mts(rep, dataset, z_normal = False):\n",
    "    seq = np.genfromtxt(rep + dataset, delimiter=' ', dtype=str, encoding=\"utf8\")\n",
    "    ids, counts = np.unique(seq[:,0], return_counts=True)\n",
    "\n",
    "    No = ids.shape[0]\n",
    "    D = seq.shape[1] - 3\n",
    "    arr = np.asarray((ids, counts)).T\n",
    "    Max_Seq_Len = np.max(arr[:,1].astype(np.int))\n",
    "\n",
    "    out_X = np.zeros((No, Max_Seq_Len, D))\n",
    "    out_Y = np.zeros((No, ))\n",
    "\n",
    "    for idx, id in enumerate(ids):\n",
    "        seq_cpy = seq[seq[:,0] == id]\n",
    "        l_seq = seq_cpy.shape[0]\n",
    "        out_X[idx, :l_seq, :] = seq_cpy[:, 3:]\n",
    "        out_Y[idx] = seq_cpy[0, 2] \n",
    "        if z_normal: \n",
    "            out_X[idx, :l_seq, :] = z_normalization(out_X[idx, :l_seq, :])\n",
    "        \n",
    "    return out_X, out_Y"
   ]
  },
  {
   "cell_type": "markdown",
   "metadata": {},
   "source": [
    "knn training and testing\n",
    "---\n",
    "\n",
    "---\n",
    "    We consider both z-normalized mts and non z-normalized mts\n",
    "    \n",
    "    We adopt \"dtw\" as Distance measure here, as \"dtw\" is always better then \"euclidean distance\" in mtsc task"
   ]
  },
  {
   "cell_type": "code",
   "execution_count": 85,
   "metadata": {},
   "outputs": [
    {
     "name": "stdout",
     "output_type": "stream",
     "text": [
      "the accuracy score (non Z-normalized) of the testing data is : 0.77\n",
      "the accuracy score (Z-normalized) of the testing data is : 0.81\n"
     ]
    }
   ],
   "source": [
    "# training/testing without Z normalization\n",
    "x_train, y_train = convert_mts(rep, ds_train)\n",
    "x_test, y_test = convert_mts(rep, ds_test)\n",
    "\n",
    "clf = KNeighborsTimeSeriesClassifier(n_neighbors=2, metric=\"dtw\")\n",
    "\n",
    "y_test_pred = clf.fit(x_train, y=y_train).predict(x_test)\n",
    "\n",
    "print(\"the accuracy score (non Z-normalized) of the testing data is : \" + str(accuracy_score(y_test, y_test_pred)))\n",
    "\n",
    "# training/testing with Z normalization\n",
    "x_train, y_train = convert_mts(rep, ds_train, z_normal = True)\n",
    "x_test, y_test = convert_mts(rep, ds_test, z_normal = True)\n",
    "y_test_pred = clf.fit(x_train, y=y_train).predict(x_test)\n",
    "\n",
    "print(\"the accuracy score (Z-normalized) of the testing data is : \" + str(accuracy_score(y_test, y_test_pred)))"
   ]
  },
  {
   "cell_type": "code",
   "execution_count": null,
   "metadata": {},
   "outputs": [],
   "source": []
  }
 ],
 "metadata": {
  "kernelspec": {
   "display_name": "Python 3",
   "language": "python",
   "name": "python3"
  },
  "language_info": {
   "codemirror_mode": {
    "name": "ipython",
    "version": 3
   },
   "file_extension": ".py",
   "mimetype": "text/x-python",
   "name": "python",
   "nbconvert_exporter": "python",
   "pygments_lexer": "ipython3",
   "version": "3.6.10"
  }
 },
 "nbformat": 4,
 "nbformat_minor": 4
}
