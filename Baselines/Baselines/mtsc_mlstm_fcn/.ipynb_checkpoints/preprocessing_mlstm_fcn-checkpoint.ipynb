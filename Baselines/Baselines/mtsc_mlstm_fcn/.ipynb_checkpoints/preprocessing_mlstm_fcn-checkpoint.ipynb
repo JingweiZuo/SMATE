{
 "cells": [
  {
   "cell_type": "markdown",
   "metadata": {},
   "source": [
    "Data format conversion for MLSTM-FCN\n",
    "===\n",
    "\n",
    "\n",
    "---\n",
    "Input\n",
    "---\n",
    "\n",
    "A single file contains all samples and their labels: ***L * (3 + D)***\n",
    "\n",
    "\n",
    "\n",
    "- 1st col: sample_id\n",
    "- 2nd col: timestamps\n",
    "- 3rd col: label\n",
    "- after the 4th col: mts vector with D dimensions   \n",
    "\n",
    "---\n",
    "Output\n",
    "---\n",
    "\n",
    "Two array-like variables\n",
    "\n",
    "- X : array with shape (n_ts, d, sz)\n",
    "        Sequence data.\n",
    "- y : array with shape (n_ts, 1)\n",
    "        Target labels.\n",
    "\n"
   ]
  },
  {
   "cell_type": "code",
   "execution_count": 4,
   "metadata": {},
   "outputs": [],
   "source": [
    "import numpy as np"
   ]
  },
  {
   "cell_type": "code",
   "execution_count": 5,
   "metadata": {},
   "outputs": [],
   "source": [
    "def z_normalization(mts):\n",
    "    M = len(mts[0, :])\n",
    "    for i in range(M):\n",
    "        mts_i = mts[:, i]\n",
    "        mean = np.mean(mts_i)\n",
    "        std = np.std(mts_i)\n",
    "        mts_i = (mts_i - mean) / std\n",
    "        mts[:, i] = mts_i\n",
    "    return mts"
   ]
  },
  {
   "cell_type": "code",
   "execution_count": 10,
   "metadata": {},
   "outputs": [],
   "source": [
    "rep = \"../datasets/multivariate/\"\n",
    "ds = \"ECG\"\n",
    "ds_train = ds + '/' + ds + \"_TRAIN3\"\n",
    "ds_test = ds + '/' + ds + \"_TEST3\"\n",
    "\n",
    "def convert_mts(rep, dataset, z_normal = False):\n",
    "    seq = np.genfromtxt(rep + dataset, delimiter=' ', dtype=str, encoding=\"utf8\")\n",
    "    ids, counts = np.unique(seq[:,0], return_counts=True)\n",
    "\n",
    "    No = ids.shape[0]\n",
    "    D = seq.shape[1] - 3\n",
    "    arr = np.asarray((ids, counts)).T\n",
    "    Max_Seq_Len = np.max(arr[:,1].astype(np.int))\n",
    "\n",
    "    out_X = np.zeros((No, D, Max_Seq_Len))\n",
    "    out_Y = np.zeros((No, ))\n",
    "\n",
    "    for idx, id in enumerate(ids):\n",
    "        seq_cpy = seq[seq[:,0] == id]\n",
    "        l_seq = seq_cpy.shape[0]\n",
    "        out_X[idx, :, :l_seq] = np.transpose(seq_cpy[:, 3:])\n",
    "        out_Y[idx] = seq_cpy[0, 2] \n",
    "        if z_normal: \n",
    "            out_X[idx, :, :l_seq] = np.transpose(z_normalization(np.transpose(out_X[idx, :, :l_seq])))\n",
    "        \n",
    "    return out_X, out_Y\n",
    "\n",
    "X_train, y_train = convert_mts(rep, ds_train, True)\n",
    "X_test, y_test = convert_mts(rep, ds_test, True)"
   ]
  },
  {
   "cell_type": "code",
   "execution_count": 11,
   "metadata": {},
   "outputs": [
    {
     "name": "stdout",
     "output_type": "stream",
     "text": [
      "Train dataset :  (100, 2, 147) (100,)\n",
      "Test dataset :  (100, 2, 152) (100,)\n",
      "Train dataset metrics :  5.437827059388522e-19 0.7833297148563118\n",
      "Test dataset :  -4.601582273117426e-19 0.7646378571791871\n",
      "Nb classes :  2\n"
     ]
    }
   ],
   "source": [
    "# ''' Save the datasets '''\n",
    "print(\"Train dataset : \", X_train.shape, y_train.shape)\n",
    "print(\"Test dataset : \", X_test.shape, y_test.shape)\n",
    "print(\"Train dataset metrics : \", X_train.mean(), X_train.std())\n",
    "print(\"Test dataset : \", X_test.mean(), X_test.std())\n",
    "print(\"Nb classes : \", len(np.unique(y_train)))\n",
    "\n",
    "np.save(rep + ds + '/X_train.npy', X_train)\n",
    "np.save(rep + ds + '/y_train.npy', y_train)\n",
    "np.save(rep + ds + '/X_test.npy', X_test)\n",
    "np.save(rep + ds + '/y_test.npy', y_test)"
   ]
  },
  {
   "cell_type": "code",
   "execution_count": null,
   "metadata": {},
   "outputs": [],
   "source": []
  }
 ],
 "metadata": {
  "kernelspec": {
   "display_name": "Python 3",
   "language": "python",
   "name": "python3"
  },
  "language_info": {
   "codemirror_mode": {
    "name": "ipython",
    "version": 3
   },
   "file_extension": ".py",
   "mimetype": "text/x-python",
   "name": "python",
   "nbconvert_exporter": "python",
   "pygments_lexer": "ipython3",
   "version": "3.6.10"
  }
 },
 "nbformat": 4,
 "nbformat_minor": 4
}
