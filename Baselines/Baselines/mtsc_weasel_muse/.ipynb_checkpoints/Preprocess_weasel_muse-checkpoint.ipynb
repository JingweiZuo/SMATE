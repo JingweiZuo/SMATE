{
 "cells": [
  {
   "cell_type": "markdown",
   "metadata": {},
   "source": [
    "Data format conversion for WEASEL_MUSE\n",
    "===\n",
    "\n",
    "\n",
    "---\n",
    "Input\n",
    "---\n",
    "\n",
    "Two file types, each **data file** represents a single sample; the **label file** contains labels of all samples\n",
    "\n",
    "***Note:*** *both training and testing data should do the conversion*\n",
    "\n",
    "**data files**: \n",
    "- file name: \"sample_id.csv\"\n",
    "- file contents: L * D, L is the MTS length, D is the dimension size\n",
    "\n",
    "**label file**: \n",
    "- file name: \"meta_data.csv\"\n",
    "- file contents: L * 2, L is the MTS length, each row is like \"sample_id, label\"\n",
    "\n",
    "---\n",
    "Output\n",
    "---\n",
    "\n",
    "A single file contains all samples and their labels: ***L * (3 + D)***\n",
    "\n",
    "\n",
    "\n",
    "- 1st col: sample_id\n",
    "- 2nd col: timestamps\n",
    "- 3rd col: label\n",
    "- after the 4th col: mts vector with D dimensions   \n"
   ]
  },
  {
   "cell_type": "code",
   "execution_count": null,
   "metadata": {},
   "outputs": [],
   "source": [
    "import numpy as np\n"
   ]
  }
 ],
 "metadata": {
  "kernelspec": {
   "display_name": "Python 3",
   "language": "python",
   "name": "python3"
  },
  "language_info": {
   "codemirror_mode": {
    "name": "ipython",
    "version": 3
   },
   "file_extension": ".py",
   "mimetype": "text/x-python",
   "name": "python",
   "nbconvert_exporter": "python",
   "pygments_lexer": "ipython3",
   "version": "3.6.10"
  }
 },
 "nbformat": 4,
 "nbformat_minor": 4
}
