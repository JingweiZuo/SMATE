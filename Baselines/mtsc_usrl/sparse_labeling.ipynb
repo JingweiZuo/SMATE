{
 "cells": [
  {
   "cell_type": "markdown",
   "metadata": {},
   "source": [
    "Licensed to the Apache Software Foundation (ASF) under one\n",
    "or more contributor license agreements.  See the NOTICE file\n",
    "distributed with this work for additional information\n",
    "regarding copyright ownership.  The ASF licenses this file\n",
    "to you under the Apache License, Version 2.0 (the\n",
    "\"License\"); you may not use this file except in compliance\n",
    "with the License.  You may obtain a copy of the License at\n",
    "\n",
    "  http://www.apache.org/licenses/LICENSE-2.0\n",
    "\n",
    "Unless required by applicable law or agreed to in writing,\n",
    "software distributed under the License is distributed on an\n",
    "\"AS IS\" BASIS, WITHOUT WARRANTIES OR CONDITIONS OF ANY\n",
    "KIND, either express or implied.  See the License for the\n",
    "specific language governing permissions and limitations\n",
    "under the License."
   ]
  },
  {
   "cell_type": "markdown",
   "metadata": {},
   "source": [
    "# Experiments with Sparse Labeling"
   ]
  },
  {
   "cell_type": "code",
   "execution_count": 1,
   "metadata": {},
   "outputs": [],
   "source": [
    "import os\n",
    "import math\n",
    "import json\n",
    "\n",
    "import scipy as sp\n",
    "import numpy as np\n",
    "import pandas as pd\n",
    "\n",
    "import matplotlib\n",
    "import matplotlib.pyplot as plt\n",
    "\n",
    "import sklearn\n",
    "\n",
    "import torch\n",
    "\n",
    "import ucr\n",
    "import scikit_wrappers"
   ]
  },
  {
   "cell_type": "code",
   "execution_count": 2,
   "metadata": {},
   "outputs": [],
   "source": [
    "import warnings\n",
    "warnings.simplefilter(action='ignore', category=FutureWarning)"
   ]
  },
  {
   "cell_type": "code",
   "execution_count": 3,
   "metadata": {},
   "outputs": [],
   "source": [
    "# GPU number\n",
    "gpu = 0"
   ]
  },
  {
   "cell_type": "code",
   "execution_count": 4,
   "metadata": {},
   "outputs": [
    {
     "data": {
      "text/plain": [
       "<torch._C.Generator at 0x7f72f966c230>"
      ]
     },
     "execution_count": 4,
     "metadata": {},
     "output_type": "execute_result"
    }
   ],
   "source": [
    "np.random.seed(0)\n",
    "torch.manual_seed(0)"
   ]
  },
  {
   "cell_type": "markdown",
   "metadata": {},
   "source": [
    "### Dataset"
   ]
  },
  {
   "cell_type": "code",
   "execution_count": 5,
   "metadata": {},
   "outputs": [],
   "source": [
    "path = 'Data/UCR' # Path to datasets\n",
    "dataset = 'TwoPatterns'"
   ]
  },
  {
   "cell_type": "code",
   "execution_count": 6,
   "metadata": {},
   "outputs": [],
   "source": [
    "train, train_labels, test, test_labels = ucr.load_UCR_dataset(path, dataset)"
   ]
  },
  {
   "cell_type": "code",
   "execution_count": 7,
   "metadata": {},
   "outputs": [
    {
     "data": {
      "text/plain": [
       "[<matplotlib.lines.Line2D at 0x7f72db1a4c18>]"
      ]
     },
     "execution_count": 7,
     "metadata": {},
     "output_type": "execute_result"
    },
    {
     "data": {
      "image/png": "[encoded data removed]",
      "text/plain": [
       "<Figure size 432x288 with 1 Axes>"
      ]
     },
     "metadata": {
      "needs_background": "light"
     },
     "output_type": "display_data"
    }
   ],
   "source": [
    "plt.plot(test[0, 0])"
   ]
  },
  {
   "cell_type": "markdown",
   "metadata": {},
   "source": [
    "## Loading the encoder"
   ]
  },
  {
   "cell_type": "code",
   "execution_count": 8,
   "metadata": {},
   "outputs": [],
   "source": [
    "model_path = '' # Folder containing the saved model"
   ]
  },
  {
   "cell_type": "code",
   "execution_count": 9,
   "metadata": {},
   "outputs": [],
   "source": [
    "classifier = scikit_wrappers.CausalCNNEncoderClassifier()\n",
    "hf = open(\n",
    "    os.path.join(\n",
    "        model_path, dataset + '_hyperparameters.json'\n",
    "    ), 'r'\n",
    ")\n",
    "hp_dict = json.load(hf)\n",
    "hf.close()\n",
    "hp_dict['cuda'] = True\n",
    "hp_dict['gpu'] = gpu\n",
    "classifier.set_params(**hp_dict)\n",
    "classifier.load(os.path.join(model_path, dataset ))"
   ]
  },
  {
   "cell_type": "code",
   "execution_count": 10,
   "metadata": {},
   "outputs": [
    {
     "data": {
      "text/plain": [
       "0.99975"
      ]
     },
     "execution_count": 10,
     "metadata": {},
     "output_type": "execute_result"
    }
   ],
   "source": [
    "# Original classifier score\n",
    "classifier.score(test, test_labels)"
   ]
  },
  {
   "cell_type": "markdown",
   "metadata": {},
   "source": [
    "## Sparse Labeling"
   ]
  },
  {
   "cell_type": "code",
   "execution_count": 11,
   "metadata": {},
   "outputs": [],
   "source": [
    "# Tested number of labels\n",
    "nb_labels_list = [int(12 * pow(1.25, i)) for i in range(20)]"
   ]
  },
  {
   "cell_type": "code",
   "execution_count": 12,
   "metadata": {},
   "outputs": [],
   "source": [
    "# Precompute the frozen representations for efficiency puproses\n",
    "train_features = classifier.encode(train)\n",
    "test_features = classifier.encode(test)"
   ]
  },
  {
   "cell_type": "code",
   "execution_count": 13,
   "metadata": {
    "scrolled": true
   },
   "outputs": [
    {
     "name": "stdout",
     "output_type": "stream",
     "text": [
      "12 0.7198 0.07630930480616373\n",
      "15 0.8053500000000001 0.04000018749956055\n",
      "18 0.7750999999999999 0.03526102664415773\n",
      "23 0.8804500000000001 0.035383400062741266\n",
      "29 0.8980499999999999 0.041716123981022035\n",
      "36 0.9004999999999999 0.037496666518505375\n",
      "45 0.9417 0.021591317699482814\n",
      "57 0.9599500000000001 0.020026482466973566\n",
      "71 0.9794499999999999 0.011272089424769514\n",
      "89 0.9849500000000001 0.004945705207551294\n",
      "111 0.99215 0.005582562135793905\n",
      "139 0.9944000000000001 0.0038065732621348613\n",
      "174 0.99695 0.0008717797887081673\n",
      "218 0.99825 0.0009486832980504971\n",
      "272 0.99885 0.0005385164807134529\n",
      "341 0.9986499999999999 0.0007176350047203738\n",
      "426 0.9992500000000002 0.0003162277660168558\n",
      "532 0.9993500000000001 0.0004636809247747796\n",
      "666 0.9996 0.00030000000000001873\n",
      "832 0.9998000000000001 0.00018708286933867647\n"
     ]
    }
   ],
   "source": [
    "# Learns an SVM for each 5 different splits for each tested number of labels\n",
    "for nb_labels in nb_labels_list:\n",
    "    results = []\n",
    "    for i in range(5):\n",
    "        split = sklearn.model_selection.train_test_split(\n",
    "            train_features, train_labels, train_size=nb_labels, stratify=train_labels\n",
    "        )\n",
    "        classifier.fit_classifier(split[0], split[2])\n",
    "        results.append(classifier.classifier.score(test_features, test_labels))\n",
    "    print(nb_labels, np.mean(results), np.std(results))"
   ]
  },
  {
   "cell_type": "code",
   "execution_count": 14,
   "metadata": {},
   "outputs": [
    {
     "name": "stdout",
     "output_type": "stream",
     "text": [
      "1000 0.99975 0.0\n"
     ]
    }
   ],
   "source": [
    "# Case where no label is missing\n",
    "results = []\n",
    "for i in range(5):\n",
    "    classifier.fit_classifier(train_features, train_labels)\n",
    "    results.append(classifier.classifier.score(test_features, test_labels))\n",
    "print(np.shape(train_features)[0], np.mean(results), np.std(results))"
   ]
  }
 ],
 "metadata": {
  "file_extension": ".py",
  "kernelspec": {
   "display_name": "Python 3",
   "language": "python",
   "name": "python3"
  },
  "language_info": {
   "codemirror_mode": {
    "name": "ipython",
    "version": 3
   },
   "file_extension": ".py",
   "mimetype": "text/x-python",
   "name": "python",
   "nbconvert_exporter": "python",
   "pygments_lexer": "ipython3",
   "version": "3.7.3"
  },
  "mimetype": "text/x-python",
  "name": "python",
  "npconvert_exporter": "python",
  "pygments_lexer": "ipython3",
  "version": 3
 },
 "nbformat": 4,
 "nbformat_minor": 2
}
